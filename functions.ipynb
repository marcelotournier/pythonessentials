{
 "cells": [
  {
   "cell_type": "markdown",
   "metadata": {},
   "source": [
    "# User-defined functions - interesting examples:"
   ]
  },
  {
   "cell_type": "markdown",
   "metadata": {},
   "source": [
    "You can write functions to return tuples:"
   ]
  },
  {
   "cell_type": "code",
   "execution_count": 42,
   "metadata": {},
   "outputs": [
    {
     "name": "stdout",
     "output_type": "stream",
     "text": [
      "Get full tuple: (4, 2, 2)\n",
      "Result is: 4\n"
     ]
    },
    {
     "data": {
      "text/plain": [
       "tuple"
      ]
     },
     "execution_count": 42,
     "metadata": {},
     "output_type": "execute_result"
    }
   ],
   "source": [
    "def power(x, power = 2):\n",
    "    \"\"\"To raise a value to an exponential power.\"\"\"\n",
    "    val = x ** power\n",
    "    return val, x, power\n",
    "result = power(2)\n",
    "print('Get full tuple:',result)\n",
    "print('Result is:',result[0])\n",
    "type(result)"
   ]
  },
  {
   "cell_type": "markdown",
   "metadata": {},
   "source": [
    "Docstrings are useful to put important information about the function:"
   ]
  },
  {
   "cell_type": "code",
   "execution_count": 44,
   "metadata": {},
   "outputs": [
    {
     "name": "stdout",
     "output_type": "stream",
     "text": [
      "Help on function power in module __main__:\n",
      "\n",
      "power(x, power=2)\n",
      "    To raise a value to an exponential power.\n",
      "\n"
     ]
    }
   ],
   "source": [
    "help(power)"
   ]
  },
  {
   "cell_type": "markdown",
   "metadata": {},
   "source": [
    "You can create functions that creates new objects (like `lst=[]`).  This is recommended, instead of functions create global variables:"
   ]
  },
  {
   "cell_type": "code",
   "execution_count": 59,
   "metadata": {},
   "outputs": [
    {
     "name": "stdout",
     "output_type": "stream",
     "text": [
      "[1]\n",
      "[1, 1]\n",
      "[1, 1, 1]\n",
      "[1, 1, 1, 1]\n"
     ]
    }
   ],
   "source": [
    "def new_item_3(item, lst =[]):\n",
    "    \"\"\" This function will return an item to a predefined list, or\n",
    "    create a new list if one is not input in the arguments.\"\"\"\n",
    "    \n",
    "    lst.append(item)\n",
    "    return lst\n",
    "\n",
    "list_3 = new_item_3(1)\n",
    "print(list_3)\n",
    "\n",
    "list_3 = new_item_3(1)\n",
    "print(list_3)\n",
    "\n",
    "list_3 = new_item_3(1)\n",
    "print(list_3)\n",
    "\n",
    "list_3 = new_item_3(1)\n",
    "print(list_3)"
   ]
  },
  {
   "cell_type": "markdown",
   "metadata": {},
   "source": [
    "---\n",
    "Ideas for the game:"
   ]
  },
  {
   "cell_type": "code",
   "execution_count": 60,
   "metadata": {},
   "outputs": [],
   "source": [
    "def room_1():\n",
    "    print(\"You're in room_1!\\n\")\n",
    "    input('<Press any key to continue>\\n')\n",
    "    \n",
    "    print(\"Press 1 to go to room_2.\")\n",
    "    print(\"Press 2 to fail.\")\n",
    "    \n",
    "    choice = input(\"> \")\n",
    "    \n",
    "    if choice == '1':\n",
    "        room_2() # This moves us into room_2\n",
    "\n",
    "    elif choice == '2':\n",
    "        fail() # This moves us into fail\n",
    "    \n",
    "    else:\n",
    "        print(\"Invalid entry. Please try again.\\n\")\n",
    "        room_1() # Brings us back to the beginning of room_1 to try again\n",
    "    "
   ]
  },
  {
   "cell_type": "code",
   "execution_count": null,
   "metadata": {},
   "outputs": [],
   "source": []
  }
 ],
 "metadata": {
  "kernelspec": {
   "display_name": "Python 3",
   "language": "python",
   "name": "python3"
  },
  "language_info": {
   "codemirror_mode": {
    "name": "ipython",
    "version": 3
   },
   "file_extension": ".py",
   "mimetype": "text/x-python",
   "name": "python",
   "nbconvert_exporter": "python",
   "pygments_lexer": "ipython3",
   "version": "3.7.0"
  }
 },
 "nbformat": 4,
 "nbformat_minor": 2
}
