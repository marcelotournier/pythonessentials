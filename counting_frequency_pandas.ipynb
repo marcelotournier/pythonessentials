{
 "cells": [
  {
   "cell_type": "markdown",
   "metadata": {},
   "source": [
    "# Counting frequency of counts in Pandas DataFrames:\n",
    "\n",
    "---\n",
    "\n",
    "I will create a simulated list of strings, to count the frequency of them on a given Pandas DataFrame:"
   ]
  },
  {
   "cell_type": "code",
   "execution_count": 18,
   "metadata": {},
   "outputs": [],
   "source": [
    "# Creating the string list:\n",
    "import random\n",
    "langtypes = [\"EN\",\"DE\",\"ES\"]\n",
    "languages=list()\n",
    "for i in range(0,1000):\n",
    "    languages.append(random.choice(langtypes))"
   ]
  },
  {
   "cell_type": "code",
   "execution_count": 16,
   "metadata": {},
   "outputs": [],
   "source": [
    "# Counting the occurrencies in the DataFrame:\n",
    "\n",
    "# Import pandas\n",
    "import pandas as pd\n",
    "# Import Twitter data as DataFrame: df\n",
    "df = pd.DataFrame({'lang':languages})"
   ]
  },
  {
   "cell_type": "code",
   "execution_count": 17,
   "metadata": {},
   "outputs": [
    {
     "name": "stdout",
     "output_type": "stream",
     "text": [
      "{'ES': 329, 'EN': 332, 'DE': 339}\n"
     ]
    }
   ],
   "source": [
    "# Initialize an empty dictionary: langs_count\n",
    "langs_count = {}\n",
    "# Extract column from DataFrame: col\n",
    "col=df['lang']\n",
    "for entry in col:\n",
    "        # If the language is in langs_count, add 1\n",
    "    if entry in langs_count.keys():\n",
    "            langs_count[entry]+=1\n",
    "        # Else add the language to langs_count, set the value to 1\n",
    "    else:\n",
    "            langs_count[entry]=1\n",
    "       \n",
    "# Print the populated dictionary\n",
    "print(langs_count)"
   ]
  }
 ],
 "metadata": {
  "kernelspec": {
   "display_name": "Python 3",
   "language": "python",
   "name": "python3"
  },
  "language_info": {
   "codemirror_mode": {
    "name": "ipython",
    "version": 3
   },
   "file_extension": ".py",
   "mimetype": "text/x-python",
   "name": "python",
   "nbconvert_exporter": "python",
   "pygments_lexer": "ipython3",
   "version": "3.7.0"
  }
 },
 "nbformat": 4,
 "nbformat_minor": 2
}
